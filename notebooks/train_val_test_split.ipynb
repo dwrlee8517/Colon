{
 "cells": [
  {
   "cell_type": "code",
   "execution_count": 54,
   "metadata": {},
   "outputs": [],
   "source": [
    "import os\n",
    "import sys\n",
    "sys.path.append(\"/radraid2/dongwoolee/Colon\")\n",
    "import torch\n",
    "from torch.utils.data import Dataset, DataLoader\n",
    "import torchvision.transforms as T\n",
    "from torchvision.transforms import ToTensor\n",
    "from src.data.dataset import RealColonDataset\n",
    "from src.utils.transformations import CustomTransform\n",
    "from src.utils.helpers import set_random_seed\n",
    "from sklearn.model_selection import train_test_split\n",
    "import pandas as pd"
   ]
  },
  {
   "cell_type": "markdown",
   "metadata": {},
   "source": [
    "# Train Val Test Split\n",
    "\n",
    "## Train + Val: stratified splitting from all videos other than 004\n",
    "## Test: videos starting with 004"
   ]
  },
  {
   "cell_type": "code",
   "execution_count": null,
   "metadata": {},
   "outputs": [
    {
     "name": "stdout",
     "output_type": "stream",
     "text": [
      "Videos: 53, Frames: 2523650, Polyps: 313273\n",
      "Videos: 15, Frames: 515413, Polyps: 78883\n",
      "Videos: 38, Frames: 2008237, Polyps: 234390\n"
     ]
    }
   ],
   "source": [
    "def get_stat(df: pd.DataFrame):\n",
    "    vids = len(df['video_id'].unique())\n",
    "    frames = len(df)\n",
    "    polyp_frames = df['is_polyps_frame'].sum()\n",
    "    print(f\"Videos: {vids}, Frames: {frames}, Polyps: {polyp_frames}\")\n",
    "\n",
    "full_csv = \"/radraid2/dongwoolee/Colon/data/frames_polyps.csv\"\n",
    "\n",
    "full_df = pd.read_csv(full_csv)\n",
    "test_df = full_df[full_df['video_id'].str.startswith(\"004\")]\n",
    "nontest_df = full_df[~full_df['video_id'].str.startswith(\"004\")]\n",
    "test_df.to_csv(\"/radraid2/dongwoolee/Colon/data/frames_test.csv\", index=False)\n",
    "nontest_df.to_csv(\"/radraid2/dongwoolee/Colon/data/frames_nontest.csv\", index=False)\n",
    "\n",
    "get_stat(full_df)\n",
    "get_stat(test_df)\n",
    "get_stat(nontest_df)"
   ]
  },
  {
   "cell_type": "code",
   "execution_count": 99,
   "metadata": {},
   "outputs": [
    {
     "name": "stdout",
     "output_type": "stream",
     "text": [
      "Train: Patients=31, Total Frames=1683094, Total Polyp Frames=195705, Polyp Ratio=0.1163\n",
      "Valid: Patients=7, Total Frames=325143, Total Polyp Frames=38685, Polyp Ratio=0.1190\n"
     ]
    }
   ],
   "source": [
    "uvids = nontest_df['video_id'].unique()\n",
    "metadata = []\n",
    "for vid in uvids:\n",
    "    vid_df = nontest_df[nontest_df['video_id']==vid]\n",
    "    data = [vid, len(vid_df), sum(vid_df['is_polyps_frame'])]\n",
    "    metadata.append(data)\n",
    "df = pd.DataFrame(metadata, columns=[\"patient_id\", \"total_frames\", \"polyp_frames\"])\n",
    "\n",
    "# Compute the polyp ratio for each patient (as a percentage or per 1000 frames, here we keep it raw)\n",
    "df['polyp_ratio'] = df['polyp_frames'] / df['total_frames']\n",
    "\n",
    "# Create bins for polyp_ratio and total_frames. \n",
    "# The number of bins (q) can be tuned; here we use 5.\n",
    "df['ratio_bin'] = pd.qcut(df['polyp_ratio'], q=2, duplicates='drop')\n",
    "df['frame_bin'] = pd.qcut(df['total_frames'], q=3, duplicates='drop')\n",
    "\n",
    "# Combine the bins into a single stratification column.\n",
    "df['stratify_bin'] = df['ratio_bin'].astype(str) + '_' + df['frame_bin'].astype(str)\n",
    "\n",
    "# First, split off the test set (say 20% of the patients), stratifying by the combined bin.\n",
    "train, val = train_test_split(\n",
    "    df, \n",
    "    test_size=0.18, \n",
    "    stratify=df['stratify_bin'], \n",
    "    random_state=42\n",
    ")\n",
    "\n",
    "# Print summary statistics for each set\n",
    "def print_stats(name, d):\n",
    "    total_frames = d['total_frames'].sum()\n",
    "    total_polyp = d['polyp_frames'].sum()\n",
    "    ratio = total_polyp / total_frames if total_frames > 0 else None\n",
    "    print(f\"{name}: Patients={len(d)}, Total Frames={total_frames}, Total Polyp Frames={total_polyp}, Polyp Ratio={ratio:.4f}\")\n",
    "\n",
    "print_stats(\"Train\", train)\n",
    "print_stats(\"Valid\", val)\n",
    "train_df = nontest_df[nontest_df[\"video_id\"].isin(train[\"patient_id\"].values)]\n",
    "val_df = nontest_df[nontest_df[\"video_id\"].isin(val[\"patient_id\"].values)]\n",
    "train_df.to_csv(\"/radraid2/dongwoolee/Colon/data/frames_train.csv\", index=False)\n",
    "val_df.to_csv(\"/radraid2/dongwoolee/Colon/data/frames_val.csv\", index=False)"
   ]
  },
  {
   "cell_type": "markdown",
   "metadata": {},
   "source": [
    "## Additional Experiments (Not Used)"
   ]
  },
  {
   "cell_type": "code",
   "execution_count": 70,
   "metadata": {},
   "outputs": [
    {
     "name": "stdout",
     "output_type": "stream",
     "text": [
      "Statistics by Split:\n",
      "Train+Val: Patients=38, Total Frames=2008237, Total Polyp Frames=234390, Polyp Ratio=0.1167\n",
      "Test: Patients=15, Total Frames=515413, Total Polyp Frames=78883, Polyp Ratio=0.1530\n"
     ]
    }
   ],
   "source": [
    "\n",
    "# Create a new column \"group\" by extracting the first three characters from patient_id\n",
    "df[\"group\"] = df[\"patient_id\"].str.split(\"-\").str[0]\n",
    "\n",
    "# Split the data: train+val from groups 001,002,003 and test from group 004\n",
    "train_val_df = df[df[\"group\"].isin([\"001\", \"002\", \"003\"])]\n",
    "test_df = df[df[\"group\"] == \"004\"]\n",
    "\n",
    "def print_stats(name, data):\n",
    "    total_frames = data[\"total_frames\"].sum()\n",
    "    total_polyp_frames = data[\"polyp_frames\"].sum()\n",
    "    polyp_ratio = total_polyp_frames / total_frames\n",
    "    num_patients = data.shape[0]\n",
    "    print(f\"{name}: Patients={num_patients}, Total Frames={total_frames}, \"\n",
    "          f\"Total Polyp Frames={total_polyp_frames}, Polyp Ratio={polyp_ratio:.4f}\")\n",
    "\n",
    "print(\"Statistics by Split:\")\n",
    "print_stats(\"Train+Val\", train_val_df)\n",
    "print_stats(\"Test\", test_df)\n"
   ]
  },
  {
   "cell_type": "code",
   "execution_count": 2,
   "metadata": {},
   "outputs": [],
   "source": [
    "# Set a global random seed here.\n",
    "GLOBAL_SEED = 42\n",
    "set_random_seed(GLOBAL_SEED)\n",
    "\n",
    "train_transform = T.Compose([\n",
    "    CustomTransform(pad_method=\"zeros\", max_size=(1352,1080), target_size=(224,224), augment=True),\n",
    "    ToTensor()\n",
    "])\n",
    "\n",
    "test_transform = T.Compose([\n",
    "    CustomTransform(pad_method=\"zeros\", max_size=(1352,1080), target_size=(224,224), augment=False),\n",
    "    ToTensor()\n",
    "])"
   ]
  }
 ],
 "metadata": {
  "kernelspec": {
   "display_name": "colon_env",
   "language": "python",
   "name": "python3"
  },
  "language_info": {
   "codemirror_mode": {
    "name": "ipython",
    "version": 3
   },
   "file_extension": ".py",
   "mimetype": "text/x-python",
   "name": "python",
   "nbconvert_exporter": "python",
   "pygments_lexer": "ipython3",
   "version": "3.10.0"
  }
 },
 "nbformat": 4,
 "nbformat_minor": 2
}
